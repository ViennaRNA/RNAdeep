{
  "nbformat": 4,
  "nbformat_minor": 0,
  "metadata": {
    "colab": {
      "name": "windows_lstms_learning.ipynb",
      "provenance": [],
      "collapsed_sections": [],
      "include_colab_link": true
    },
    "kernelspec": {
      "name": "python3",
      "display_name": "Python 3"
    }
  },
  "cells": [
    {
      "cell_type": "markdown",
      "metadata": {
        "id": "view-in-github",
        "colab_type": "text"
      },
      "source": [
        "<a href=\"https://colab.research.google.com/github/ViennaRNA/RNAdeep/blob/main/windows_lstms_learning.ipynb\" target=\"_parent\"><img src=\"https://colab.research.google.com/assets/colab-badge.svg\" alt=\"Open In Colab\"/></a>"
      ]
    },
    {
      "cell_type": "code",
      "metadata": {
        "id": "CnIOORZld2TJ"
      },
      "source": [
        ""
      ],
      "execution_count": null,
      "outputs": []
    },
    {
      "cell_type": "code",
      "metadata": {
        "id": "C150beMeSSBE"
      },
      "source": [
        "#Check GPU\n",
        "%tensorflow_version 2.x\n",
        "import tensorflow as tf\n",
        "device_name = tf.test.gpu_device_name()\n",
        "if device_name != '/device:GPU:0':\n",
        "  raise SystemError('GPU device not found')\n",
        "print('Found GPU at: {}'.format(device_name))"
      ],
      "execution_count": null,
      "outputs": []
    },
    {
      "cell_type": "code",
      "metadata": {
        "id": "nI-4vzBymqpc"
      },
      "source": [
        "#Mount Drive\n",
        "#TODO Change to wget\n",
        "from google.colab import drive\n",
        "import os\n",
        "\n",
        "drive.mount('/content/drive', force_remount=True)\n",
        "#os.chdir(\"drive/My Drive/\")\n",
        "os.listdir()\n"
      ],
      "execution_count": null,
      "outputs": []
    },
    {
      "cell_type": "code",
      "metadata": {
        "id": "QbsKpJ0uCZRi"
      },
      "source": [
        "!cp -r drive/My\\ Drive/data/interim/10000_length70 .\n",
        "!cp drive/My\\ Drive/models/*py .\n",
        "#!unzip 100000_length70.zip"
      ],
      "execution_count": null,
      "outputs": []
    },
    {
      "cell_type": "code",
      "metadata": {
        "id": "MeFpU860eFkD"
      },
      "source": [
        ""
      ],
      "execution_count": null,
      "outputs": []
    },
    {
      "cell_type": "code",
      "metadata": {
        "id": "YwEtlgMn65qr"
      },
      "source": [
        "from sliding_window import basic_window,conv_window\n",
        "from metrics import mcc,f1,sensitivity\n",
        "from data_generators import DataFromInterimWindows\n",
        "import numpy as np\n",
        "from tensorflow.keras.callbacks import CSVLogger,ModelCheckpoint,Callback\n",
        "import os\n",
        "import statistics\n",
        "from tensorflow.keras.optimizers import Adam\n",
        "\n",
        "opt = Adam(learning_rate=0.01)\n",
        "\n",
        "directory = \"10000_length70\"\n",
        "batch_size = 128\n",
        "size = 80000\n",
        "window_size = 15\n",
        "\n",
        "m = conv_window(window_size) #use basic_window or conv_window here \n",
        "csvname = \"window__%i_%i.csv\" % (batch_size,window_size)\n",
        "csv_logger = CSVLogger(csvname, append=True, separator=';')\n",
        "m.compile(optimizer=opt,loss=\"binary_crossentropy\", metrics=[\"acc\",mcc,f1])\n",
        "train_generator = DataFromInterimWindows(batch_size,os.path.join(directory,\"train\"),window_size)\n",
        "val_generator = DataFromInterimWindows(batch_size,os.path.join(directory,\"val\"),window_size)\n",
        "m.fit(x=train_generator, validation_data = val_generator,epochs=100,shuffle = True,verbose=1,callbacks=[csv_logger])"
      ],
      "execution_count": null,
      "outputs": []
    },
    {
      "cell_type": "code",
      "metadata": {
        "id": "Sn4ZHcStduuL"
      },
      "source": [
        "from lstm_models import blstm\n",
        "from metrics import mcc,f1,sensitivity\n",
        "from data_generators import DataFromInterimFile\n",
        "import numpy as np\n",
        "from tensorflow.keras.callbacks import CSVLogger,ModelCheckpoint,Callback\n",
        "import os\n",
        "import statistics\n",
        "from tensorflow.keras.optimizers import Adam\n",
        "opt = Adam(learning_rate=0.01)\n",
        "\n",
        "directory = \"100000_length70\"\n",
        "size = 80000\n",
        "batch_size = 128\n",
        "\n",
        "time_callback = TimeHistory()\n",
        "layer=1\n",
        "neurons=80\n",
        "m = blstm(5,80)\n",
        "csvname = \"blstm_%i_%i_%i.csv\" % (size,batch_size,window_size)\n",
        "csv_logger = CSVLogger(csvname, append=True, separator=';')\n",
        "m.compile(optimizer=opt,loss=\"binary_crossentropy\", metrics=[\"acc\",mcc,f1])\n",
        "train_generator = DataFromInterimFile(batch_size,os.path.join(directory,\"train\"))\n",
        "val_generator = DataFromInterimFile(batch_size,os.path.join(directory,\"val\"))\n",
        "m.fit(x=train_generator, validation_data = val_generator,epochs=5,shuffle = True,verbose=1,callbacks=[time_callback ])\n"
      ],
      "execution_count": null,
      "outputs": []
    },
    {
      "cell_type": "code",
      "metadata": {
        "id": "JcabdqAnyK4k"
      },
      "source": [
        ""
      ],
      "execution_count": null,
      "outputs": []
    }
  ]
}