{
  "cells": [
    {
      "cell_type": "markdown",
      "metadata": {
        "id": "view-in-github",
        "colab_type": "text"
      },
      "source": [
        "<a href=\"https://colab.research.google.com/github/ViennaRNA/RNAdeep/blob/dev_data/notebooks/SpotrnaPaddedData.ipynb\" target=\"_parent\"><img src=\"https://colab.research.google.com/assets/colab-badge.svg\" alt=\"Open In Colab\"/></a>"
      ]
    },
    {
      "cell_type": "markdown",
      "source": [
        "# Environment setup"
      ],
      "metadata": {
        "id": "xngVhZttlIqB"
      }
    },
    {
      "cell_type": "code",
      "execution_count": null,
      "metadata": {
        "id": "sfu3z3Y0JpZk"
      },
      "outputs": [],
      "source": [
        "# We are assuming the Python environment is 3.7.\n",
        "# otherwise you have to adjust the miniconda version below:\n",
        "import sys\n",
        "sys.version"
      ]
    },
    {
      "cell_type": "code",
      "execution_count": null,
      "metadata": {
        "id": "G9jmkPv6FZA3"
      },
      "outputs": [],
      "source": [
        "# install miniconda\n",
        "#!wget -qO ac.sh https://repo.anaconda.com/miniconda/Miniconda3-latest-Linux-x86_64.sh\n",
        "!wget -qO ac.sh https://repo.anaconda.com/miniconda/Miniconda3-py37_4.11.0-Linux-x86_64.sh # Python 3.7\n",
        "!bash ./ac.sh -b -f -p /usr/local/\n",
        "!rm ac.sh\n",
        "!conda update -y conda"
      ]
    },
    {
      "cell_type": "code",
      "execution_count": null,
      "metadata": {
        "id": "ej1iqQEFGw03"
      },
      "outputs": [],
      "source": [
        "# install viennarna, etc.\n",
        "!conda config --add channels bioconda\n",
        "!conda config --add channels conda-forge\n",
        "!conda install -y  viennarna"
      ]
    },
    {
      "cell_type": "code",
      "execution_count": null,
      "metadata": {
        "id": "LL1J96mrGe2l"
      },
      "outputs": [],
      "source": [
        "# Clone the RNAdeep repository\n",
        "!git clone https://github.com/ViennaRNA/RNAdeep.git RNAdeep\n",
        "%cd RNAdeep\n",
        "!git checkout -b dev_data\n",
        "!git pull origin dev_data\n",
        "!python ./setup.py install\n",
        "%cd .."
      ]
    },
    {
      "cell_type": "code",
      "execution_count": null,
      "metadata": {
        "id": "qACnGQLsZIVv"
      },
      "outputs": [],
      "source": [
        "# Test of RNA / RNAdeep import\n",
        "import sys\n",
        "sys.path.append(\"/usr/local/lib/python3.7/site-packages\") \n",
        "print(f\"Python version {sys.version}\")\n",
        "\n",
        "import RNA\n",
        "print(f\"RNA version {RNA.__version__}\")\n",
        "\n",
        "# Somewhat annoying that we need the \"RNAdeep\" part here, I acutally don't know why.\n",
        "import RNAdeep.rnadeep as rnadeep\n",
        "print(f\"rnadeep version {rnadeep.__version__}\")"
      ]
    },
    {
      "cell_type": "markdown",
      "source": [
        "# Let's generate some data (RNAdeep/examples/generate_data.py)"
      ],
      "metadata": {
        "id": "zHpET5pg--mz"
      }
    },
    {
      "cell_type": "code",
      "source": [
        "# Generate the data, or use the existing data from the repository?\n",
        "import os\n",
        "from RNAdeep.rnadeep.sampling import write_uniform_len_data_file\n",
        "\n",
        "datadir = \"newdata/\"\n",
        "if not os.path.exists(datadir):\n",
        "  os.mkdir(datadir)\n",
        "\n",
        "fname = write_uniform_len_data_file(25, 100, num = 10_000, root = datadir)\n",
        "print(f'Wrote file: {fname}')"
      ],
      "metadata": {
        "id": "2-KymPsP6wuM"
      },
      "execution_count": null,
      "outputs": []
    },
    {
      "cell_type": "markdown",
      "source": [
        "# Let's do some training (RNAdeep/examples/spotrna_padded.py)"
      ],
      "metadata": {
        "id": "vdOOiFzqlECT"
      }
    },
    {
      "cell_type": "code",
      "source": [
        "#\n",
        "# Training with padded data \n",
        "#\n",
        "import os\n",
        "from tensorflow.keras.callbacks import CSVLogger, ModelCheckpoint\n",
        "\n",
        "from RNAdeep.rnadeep.spotrna import spotrna\n",
        "from RNAdeep.rnadeep.metrics import mcc, f1, sensitivity\n",
        "from RNAdeep.rnadeep.data_generators import PaddedMatrixEncoding\n",
        "from RNAdeep.rnadeep.sampling import draw_sets"
      ],
      "metadata": {
        "id": "pZ5UNZsLmB9Z"
      },
      "execution_count": null,
      "outputs": []
    },
    {
      "cell_type": "code",
      "execution_count": null,
      "metadata": {
        "id": "cCtaeijGceUN"
      },
      "outputs": [],
      "source": [
        "#\n",
        "# Get the data for analysis\n",
        "#\n",
        "train, valid, tests = list(draw_sets(fname, splits = [0.8, 0.1, 0.1]))\n",
        "[train_tags, train_seqs, train_dbrs] = zip(*train)\n",
        "[valid_tags, valid_seqs, valid_dbrs] = zip(*valid)\n",
        "[tests_tags, tests_seqs, tests_dbrs] = zip(*tests)\n"
      ]
    },
    {
      "cell_type": "code",
      "source": [
        "#\n",
        "# Model Settings (TODO: update to paper settings!)\n",
        "#\n",
        "model = 1\n",
        "batch_size = 8\n",
        "epochs = 3\n",
        "data = os.path.basename(fname)\n",
        "name = f\"spotrna_m{model}_bs{batch_size}_{data}\"\n"
      ],
      "metadata": {
        "id": "RWXk0N1Y9Oes"
      },
      "execution_count": null,
      "outputs": []
    },
    {
      "cell_type": "code",
      "source": [
        "#\n",
        "# Model Setup\n",
        "#\n",
        "train_generator = PaddedMatrixEncoding(batch_size, train_seqs, train_dbrs)\n",
        "valid_generator = PaddedMatrixEncoding(batch_size, valid_seqs, valid_dbrs)\n",
        "\n",
        "m = spotrna(model, True)\n",
        "m.compile(optimizer = \"adam\",\n",
        "          loss = \"binary_crossentropy\", \n",
        "          metrics = [\"acc\", mcc, f1, sensitivity],\n",
        "          run_eagerly = True)\n",
        "\n",
        "# Callback functions for fitting.\n",
        "csv_logger = CSVLogger(f\"{name}.csv\", separator = ';', append = True)\n",
        "model_checkpoint = ModelCheckpoint(filepath = name, \n",
        "                                   save_weights_only = False, \n",
        "                                   monitor = 'val_mcc', \n",
        "                                   mode = 'max', \n",
        "                                   save_best_only = True)\n",
        "\n",
        "m.fit(x = train_generator, \n",
        "      validation_data = valid_generator,\n",
        "      epochs = epochs,\n",
        "      shuffle = True,\n",
        "      verbose = 1,\n",
        "      callbacks = [csv_logger, model_checkpoint])\n",
        "\n",
        "#save model after last epochs \n",
        "m.save(f\"{name}_ep{epochs}.rnadeep\")"
      ],
      "metadata": {
        "id": "gB7GgpyR9QXc"
      },
      "execution_count": null,
      "outputs": []
    },
    {
      "cell_type": "code",
      "source": [
        ""
      ],
      "metadata": {
        "id": "huV3pr8T9Xkn"
      },
      "execution_count": null,
      "outputs": []
    }
  ],
  "metadata": {
    "colab": {
      "name": "SpotrnaPaddedDataWIP.ipynb",
      "provenance": [],
      "collapsed_sections": [],
      "authorship_tag": "ABX9TyNCV6IyCu5VVOlkzp3W+I3t",
      "include_colab_link": true
    },
    "kernelspec": {
      "display_name": "Python 3",
      "name": "python3"
    },
    "language_info": {
      "name": "python"
    }
  },
  "nbformat": 4,
  "nbformat_minor": 0
}