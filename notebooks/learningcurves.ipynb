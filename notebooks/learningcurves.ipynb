{
  "nbformat": 4,
  "nbformat_minor": 0,
  "metadata": {
    "colab": {
      "name": "learningcurves.ipynb",
      "provenance": [],
      "include_colab_link": true
    },
    "kernelspec": {
      "name": "python3",
      "display_name": "Python 3"
    },
    "accelerator": "GPU"
  },
  "cells": [
    {
      "cell_type": "markdown",
      "metadata": {
        "id": "view-in-github",
        "colab_type": "text"
      },
      "source": [
        "<a href=\"https://colab.research.google.com/github/ViennaRNA/RNAdeep/blob/main/learningcurves.ipynb\" target=\"_parent\"><img src=\"https://colab.research.google.com/assets/colab-badge.svg\" alt=\"Open In Colab\"/></a>"
      ]
    },
    {
      "cell_type": "code",
      "metadata": {
        "id": "Yjm80Rtl4jHK"
      },
      "source": [
        "#Mount Drive\n",
        "#TODO Change to wget\n",
        "from google.colab import drive\n",
        "import os\n",
        "\n",
        "drive.mount('/content/drive', force_remount=True)\n",
        "os.listdir()"
      ],
      "execution_count": null,
      "outputs": []
    },
    {
      "cell_type": "code",
      "metadata": {
        "id": "ReFMaIFDnz_V"
      },
      "source": [
        "!cp -r drive/My\\ Drive/data/interim/100000_length70 .\n",
        "!cp drive/My\\ Drive/models/*py ."
      ],
      "execution_count": null,
      "outputs": []
    },
    {
      "cell_type": "code",
      "metadata": {
        "id": "KK4WoIMv4bse"
      },
      "source": [
        "#imports\n",
        "from lstm_models import blstm\n",
        "from metrics import mcc,f1,sensitivity\n",
        "from data_generators import DataSliceFromInterimFile\n",
        "import numpy as np\n",
        "import os\n",
        "from tensorflow.keras.callbacks import CSVLogger,ModelCheckpoint\n",
        "from tensorflow.keras.optimizers import Adam"
      ],
      "execution_count": null,
      "outputs": []
    },
    {
      "cell_type": "code",
      "metadata": {
        "id": "TchNmO3fGtls"
      },
      "source": [
        "train_sizes = [10,100,1000,5000,8000,10000,30000,50000,70000,80000]\n",
        "layers = 1\n",
        "neurons = 40\n",
        "batch_size = 128\n",
        "for size in train_sizes:\n",
        "  csvname = \"lstm_%i_%i_%i_%i.csv\" % (batch_size,size,layers,neurons)\n",
        "  csv_logger = CSVLogger(csvname, append=True, separator=';')\n",
        "  directory = \"100000_length70\"\n",
        "  m = blstm(layers,neurons)\n",
        "  opt = Adam(learning_rate=0.01)\n",
        "  m.compile(optimizer=opt,loss=\"binary_crossentropy\", metrics=[\"acc\",mcc,f1])\n",
        "  train_generator = DataSliceFromInterimFile(batch_size,os.path.join(directory,\"train\"),size)\n",
        "  val_generator = DataSliceFromInterimFile(batch_size,os.path.join(directory,\"val\"),size)\n",
        "  checkpoint_filepath = \"lstm_%i_%i_%i_%i\" % (batch_size,size,layers,neurons)\n",
        "  model_checkpoint = ModelCheckpoint(filepath=checkpoint_filepath, save_weights_only=False, monitor='val_mcc', mode='max', save_best_only=True)\n",
        "  print(checkpoint_filepath)\n",
        "  m.fit(x=train_generator, validation_data = val_generator,epochs=50,shuffle = True,verbose=1,callbacks=[csv_logger,model_checkpoint])"
      ],
      "execution_count": null,
      "outputs": []
    },
    {
      "cell_type": "code",
      "metadata": {
        "id": "JIMeaK5ZD9h4"
      },
      "source": [
        "!zip -r lstm_128_1_40_learningsurve.zip  lstm_128_*"
      ],
      "execution_count": null,
      "outputs": []
    }
  ]
}